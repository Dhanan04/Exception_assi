{
 "cells": [
  {
   "cell_type": "markdown",
   "id": "328b4174",
   "metadata": {},
   "source": [
    "#Ans1.) \n",
    "\n",
    "An Exception in Python refers to an event that disrupts the normal flow of a program's execution. It occurs when an error or unexpected condition is encountered during the program's execution. Exceptions can be caused by various factors such as invalid inputs, file handling errors, or resource constraints.\n",
    "\n",
    "Differences between Exceptions and Syntax Errors:\n",
    "\n",
    "Exceptions occur during the execution of a program when an error condition is encountered, while Syntax Errors occur during the parsing of the code and indicate invalid syntax.\n",
    "\n",
    "Exceptions can be handled using try-except blocks to gracefully handle error conditions, while Syntax Errors typically need to be fixed directly in the code before the program can run."
   ]
  },
  {
   "cell_type": "code",
   "execution_count": null,
   "id": "21b046bc",
   "metadata": {},
   "outputs": [],
   "source": []
  },
  {
   "cell_type": "markdown",
   "id": "6c73defc",
   "metadata": {},
   "source": [
    "#Ans2.) \n",
    "\n",
    "When an exception is not handled in Python, it results in termination of the program's execution and the default Python exception handler displays an error message traceback, indicating the type of exception, the line of code where it occurred, and the context in which it happened. This abrupt termination can disrupt the flow of the program and lead to unexpected behavior or crashes."
   ]
  },
  {
   "cell_type": "code",
   "execution_count": 2,
   "id": "0b9d3884",
   "metadata": {},
   "outputs": [
    {
     "name": "stdout",
     "output_type": "stream",
     "text": [
      "Enter a number: 0\n"
     ]
    },
    {
     "ename": "ZeroDivisionError",
     "evalue": "division by zero",
     "output_type": "error",
     "traceback": [
      "\u001b[1;31m---------------------------------------------------------------------------\u001b[0m",
      "\u001b[1;31mZeroDivisionError\u001b[0m                         Traceback (most recent call last)",
      "Cell \u001b[1;32mIn[2], line 3\u001b[0m\n\u001b[0;32m      1\u001b[0m \u001b[38;5;66;03m# Example of an unhandled exception\u001b[39;00m\n\u001b[0;32m      2\u001b[0m num \u001b[38;5;241m=\u001b[39m \u001b[38;5;28mint\u001b[39m(\u001b[38;5;28minput\u001b[39m(\u001b[38;5;124m\"\u001b[39m\u001b[38;5;124mEnter a number: \u001b[39m\u001b[38;5;124m\"\u001b[39m))\n\u001b[1;32m----> 3\u001b[0m result \u001b[38;5;241m=\u001b[39m \u001b[38;5;241;43m10\u001b[39;49m\u001b[43m \u001b[49m\u001b[38;5;241;43m/\u001b[39;49m\u001b[43m \u001b[49m\u001b[43mnum\u001b[49m  \u001b[38;5;66;03m# This line may raise a ZeroDivisionError if num is 0\u001b[39;00m\n\u001b[0;32m      4\u001b[0m \u001b[38;5;28mprint\u001b[39m(\u001b[38;5;124m\"\u001b[39m\u001b[38;5;124mResult:\u001b[39m\u001b[38;5;124m\"\u001b[39m, result)\n",
      "\u001b[1;31mZeroDivisionError\u001b[0m: division by zero"
     ]
    }
   ],
   "source": [
    "# Example of an unhandled exception\n",
    "num = int(input(\"Enter a number: \"))\n",
    "result = 10 / num  # This line may raise a ZeroDivisionError if num is 0\n",
    "print(\"Result:\", result)\n"
   ]
  },
  {
   "cell_type": "code",
   "execution_count": null,
   "id": "cfe9647f",
   "metadata": {},
   "outputs": [],
   "source": []
  },
  {
   "cell_type": "markdown",
   "id": "5c4b4cbb",
   "metadata": {},
   "source": [
    "#Ans3.)\n",
    "\n",
    "Python statements used to catch and handle exceptions include:\n",
    "\n",
    "try: This statement is used to enclose the code block where an exception might occur.\n",
    "\n",
    "except: This statement follows a try block and specifies the type of exception to catch and how to handle it.\n",
    "\n",
    "finally: This optional statement follows the try and except blocks and is used to execute cleanup code regardless of whether an exception occurs or not.\n",
    "\n",
    "raise: This statement is used to raise a specific exception manually"
   ]
  },
  {
   "cell_type": "code",
   "execution_count": 3,
   "id": "6bda68d3",
   "metadata": {},
   "outputs": [
    {
     "name": "stdout",
     "output_type": "stream",
     "text": [
      "Enter a number: 78\n",
      "Result: 0.1282051282051282\n",
      "Execution complete\n"
     ]
    }
   ],
   "source": [
    "try:\n",
    "    num = int(input(\"Enter a number: \"))\n",
    "    result = 10 / num\n",
    "    print(\"Result:\", result)\n",
    "except ZeroDivisionError:\n",
    "    print(\"Error: Division by zero\")\n",
    "finally:\n",
    "    print(\"Execution complete\")\n"
   ]
  },
  {
   "cell_type": "code",
   "execution_count": null,
   "id": "dc73b21a",
   "metadata": {},
   "outputs": [],
   "source": []
  },
  {
   "cell_type": "markdown",
   "id": "9be071af",
   "metadata": {},
   "source": [
    "#Ans4.)\n",
    "\n",
    "try: The try statement is used to enclose the code block where an exception might occur. It allows you to test a block of code for errors while it is being executed.\n",
    "\n",
    "except: The except statement follows a try block and specifies the type of exception to catch and how to handle it. It allows you to catch and handle specific exceptions that occur within the try block.\n",
    "\n",
    "else: The else statement is an optional block of code that follows the try block. It is executed if no exception occurs in the try block. It is typically used for code that should run only when no exceptions are raised.\n",
    "\n",
    "finally: The finally statement is an optional block of code that follows the try and except blocks. It is used to execute cleanup code regardless of whether an exception occurs or not. The finally block will always be executed, even if an exception is raised and not caught.\n",
    "\n",
    "raise: The raise statement is used to explicitly raise an exception. It allows you to trigger an exception manually based on certain conditions."
   ]
  },
  {
   "cell_type": "code",
   "execution_count": 6,
   "id": "137da481",
   "metadata": {},
   "outputs": [
    {
     "name": "stdout",
     "output_type": "stream",
     "text": [
      "Enter a number: 78\n",
      "No exception occurred\n",
      "Execution complete\n"
     ]
    }
   ],
   "source": [
    "try:\n",
    "    num = int(input(\"Enter a number: \"))  # Try to convert user input to an integer\n",
    "    result = 10 / num  # This line may raise a ZeroDivisionError if num is 0\n",
    "except ValueError:  # Handle the ValueError that occurs if user input cannot be converted to an integer\n",
    "    print(\"Error: Please enter a valid integer\")\n",
    "except ZeroDivisionError:  # Handle the ZeroDivisionError that occurs if num is 0\n",
    "    print(\"Error: Division by zero\")\n",
    "else:  # This block is executed if no exception occurs in the try block\n",
    "    print(\"No exception occurred\")\n",
    "finally:  # This block is always executed, regardless of whether an exception occurs or not\n",
    "    print(\"Execution complete\")\n"
   ]
  },
  {
   "cell_type": "code",
   "execution_count": null,
   "id": "181fc97d",
   "metadata": {},
   "outputs": [],
   "source": []
  },
  {
   "cell_type": "markdown",
   "id": "74884b0c",
   "metadata": {},
   "source": [
    "#Ans5.) \n",
    "\n",
    "Custom Exceptions in Python are user-defined exception classes that inherit from the base Exception class. They allow developers to create specific exception types tailored to their application's needs, making error handling more expressive and meaningful. Custom exceptions are useful when there is a need to distinguish between different types of errors or when additional information needs to be provided to the caller"
   ]
  },
  {
   "cell_type": "code",
   "execution_count": 4,
   "id": "caec9f32",
   "metadata": {},
   "outputs": [
    {
     "name": "stdout",
     "output_type": "stream",
     "text": [
      "Caught custom exception: Custom error message\n"
     ]
    }
   ],
   "source": [
    "# Example of defining and using a custom exception class\n",
    "class CustomError(Exception):\n",
    "    def __init__(self, message):\n",
    "        self.message = message\n",
    "\n",
    "try:\n",
    "    raise CustomError(\"Custom error message\")\n",
    "except CustomError as e:\n",
    "    print(\"Caught custom exception:\", e.message)\n"
   ]
  },
  {
   "cell_type": "code",
   "execution_count": null,
   "id": "0e2e78eb",
   "metadata": {},
   "outputs": [],
   "source": []
  },
  {
   "cell_type": "code",
   "execution_count": 7,
   "id": "5216929f",
   "metadata": {},
   "outputs": [
    {
     "name": "stdout",
     "output_type": "stream",
     "text": [
      "Custom exception occurred: This is a custom exception\n"
     ]
    }
   ],
   "source": [
    "#Ans6.)\n",
    "\n",
    "\n",
    "# Define a custom exception class\n",
    "class CustomError(Exception):\n",
    "    def __init__(self, message):\n",
    "        self.message = message\n",
    "\n",
    "# Use the custom exception class to handle an exception\n",
    "try:\n",
    "    # Raise a custom exception with a custom message\n",
    "    raise CustomError(\"This is a custom exception\")\n",
    "except CustomError as e:\n",
    "    print(\"Custom exception occurred:\", e.message)\n"
   ]
  },
  {
   "cell_type": "code",
   "execution_count": null,
   "id": "59f88ce9",
   "metadata": {},
   "outputs": [],
   "source": []
  }
 ],
 "metadata": {
  "kernelspec": {
   "display_name": "Python 3 (ipykernel)",
   "language": "python",
   "name": "python3"
  },
  "language_info": {
   "codemirror_mode": {
    "name": "ipython",
    "version": 3
   },
   "file_extension": ".py",
   "mimetype": "text/x-python",
   "name": "python",
   "nbconvert_exporter": "python",
   "pygments_lexer": "ipython3",
   "version": "3.11.4"
  }
 },
 "nbformat": 4,
 "nbformat_minor": 5
}
